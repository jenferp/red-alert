{
 "cells": [
  {
   "cell_type": "code",
   "execution_count": null,
   "metadata": {},
   "outputs": [],
   "source": [
    "import cv2\n",
    "import numpy as np\n",
    "\n",
    "def empty(a):\n",
    "    pass\n",
    "\n",
    "cap = cv2.VideoCapture(0)\n",
    "w, h = 720, 480\n",
    "\n",
    "count = 0\n",
    "\n",
    "while True:\n",
    "    success, image = cap.read()\n",
    "    if not success:\n",
    "        break\n",
    "\n",
    "    result = image.copy()\n",
    "    \n",
    "    image = cv2.cvtColor(image, cv2.COLOR_BGR2HSV)\n",
    "    low_red = np.array([162, 155,84])\n",
    "    high_red = np.array([179, 255, 255])\n",
    "    \n",
    "    mask = cv2.inRange(image, low_red, high_red)\n",
    "    result = cv2.bitwise_and(result,result,mask=mask)\n",
    "\n",
    "    cv2.imshow('mask',mask)\n",
    "    cv2.imshow('result',result)\n",
    "\n",
    "    print(type(mask))\n",
    "    #mask is 720 x 1280\n",
    "    if (count >= 30):\n",
    "        count = 0\n",
    "        \n",
    "    count += 1\n",
    "    cv2.waitKey(200)\n",
    "    if cv2.waitKey(1) and 0xFF == ord('q'):\n",
    "        break"
   ]
  },
  {
   "cell_type": "code",
   "execution_count": null,
   "metadata": {},
   "outputs": [],
   "source": []
  }
 ],
 "metadata": {
  "kernelspec": {
   "display_name": "Python 3",
   "language": "python",
   "name": "python3"
  },
  "language_info": {
   "codemirror_mode": {
    "name": "ipython",
    "version": 3
   },
   "file_extension": ".py",
   "mimetype": "text/x-python",
   "name": "python",
   "nbconvert_exporter": "python",
   "pygments_lexer": "ipython3",
   "version": "3.8.5"
  }
 },
 "nbformat": 4,
 "nbformat_minor": 4
}
